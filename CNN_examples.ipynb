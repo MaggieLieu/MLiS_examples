{
  "nbformat": 4,
  "nbformat_minor": 0,
  "metadata": {
    "colab": {
      "name": "CNN_examples.ipynb",
      "provenance": [],
      "authorship_tag": "ABX9TyOzSQxEfP95cHq7cnYdUn0l",
      "include_colab_link": true
    },
    "kernelspec": {
      "name": "python3",
      "display_name": "Python 3"
    },
    "accelerator": "GPU"
  },
  "cells": [
    {
      "cell_type": "markdown",
      "metadata": {
        "id": "view-in-github",
        "colab_type": "text"
      },
      "source": [
        "<a href=\"https://colab.research.google.com/github/MaggieLieu/MLiS_examples/blob/master/CNN_examples.ipynb\" target=\"_parent\"><img src=\"https://colab.research.google.com/assets/colab-badge.svg\" alt=\"Open In Colab\"/></a>"
      ]
    },
    {
      "cell_type": "markdown",
      "metadata": {
        "id": "mUghT-7EM30A",
        "colab_type": "text"
      },
      "source": [
        "# Convolutional neural networks\n",
        "\n",
        "In this notebook we will be building a convolutional neural network classifier using keras. First you should make sure you are running on GPU:\n",
        "\n",
        "Runtime > Change runtime type > Hardware accelerator > GPU"
      ]
    },
    {
      "cell_type": "code",
      "metadata": {
        "id": "mZSVgVqWM1Tc",
        "colab_type": "code",
        "outputId": "a4e5963d-3ac4-4fcf-896a-89b80131bf06",
        "colab": {
          "base_uri": "https://localhost:8080/",
          "height": 34
        }
      },
      "source": [
        "%tensorflow_version 2.x\n",
        "import tensorflow as tf\n",
        "import numpy as np\n",
        "import tensorflow_datasets as tfds\n",
        "%matplotlib inline\n",
        "import matplotlib.pyplot as plt\n"
      ],
      "execution_count": 0,
      "outputs": [
        {
          "output_type": "stream",
          "text": [
            "TensorFlow 2.x selected.\n"
          ],
          "name": "stdout"
        }
      ]
    },
    {
      "cell_type": "markdown",
      "metadata": {
        "id": "G3XtIU_bWBQG",
        "colab_type": "text"
      },
      "source": [
        "Okay lets download a dataset. In the tensorflow_datasets package we have access to many well known machine learning datasets. See\n",
        "https://www.tensorflow.org/datasets/catalog/overview\n",
        "for the full list. Here we will download the MNIST dataset which contains images of handwritten numbers 0-9."
      ]
    },
    {
      "cell_type": "code",
      "metadata": {
        "id": "wuvtRp1wVwYM",
        "colab_type": "code",
        "colab": {}
      },
      "source": [
        "ds = tfds.load(name=\"mnist\", as_supervised = True) #get mnist dataset \n",
        "train, test = ds[\"train\"], ds[\"test\"] #split train test"
      ],
      "execution_count": 0,
      "outputs": []
    },
    {
      "cell_type": "markdown",
      "metadata": {
        "id": "_0MAl2UUWM1N",
        "colab_type": "text"
      },
      "source": [
        "The data are already in test and train sets and we can see how much data is in each. We won't necessarily use all of this data later.\n",
        "\n"
      ]
    },
    {
      "cell_type": "code",
      "metadata": {
        "id": "Hpf87iiAVvaO",
        "colab_type": "code",
        "outputId": "0301764f-4362-4727-d5bf-4461fb0b3f26",
        "colab": {
          "base_uri": "https://localhost:8080/",
          "height": 51
        }
      },
      "source": [
        "ntrain = len([image[0] for image in train])\n",
        "ntest = len([image[0] for image in test])\n",
        "\n",
        "print('Train sample: ', ntrain)\n",
        "print('Test sample: ', ntest)"
      ],
      "execution_count": 0,
      "outputs": [
        {
          "output_type": "stream",
          "text": [
            "Train sample:  60000\n",
            "Test sample:  10000\n"
          ],
          "name": "stdout"
        }
      ]
    },
    {
      "cell_type": "markdown",
      "metadata": {
        "id": "GqlFYYIgWTgx",
        "colab_type": "text"
      },
      "source": [
        "Let's take the first image from the train dataset and visualise it."
      ]
    },
    {
      "cell_type": "code",
      "metadata": {
        "id": "MItr-oPBWRNZ",
        "colab_type": "code",
        "outputId": "345e4cbd-ef72-4605-f2ec-7dbf66d6f42d",
        "colab": {
          "base_uri": "https://localhost:8080/",
          "height": 282
        }
      },
      "source": [
        "# take 1 image from train and convert to float64 and values 0-1\n",
        "data1 = train.map(\n",
        "    lambda image, label: (tf.image.convert_image_dtype(image, tf.float64), label) \n",
        ").take(1)\n",
        "\n",
        "#get first image data and label and plot it\n",
        "features, labels = iter(data1).next()\n",
        "print('image 1 shape: ', np.shape(features));\n",
        "plt.imshow(features[:,:,0], cmap='gray_r');"
      ],
      "execution_count": 0,
      "outputs": [
        {
          "output_type": "stream",
          "text": [
            "image 1 shape:  (28, 28, 1)\n"
          ],
          "name": "stdout"
        },
        {
          "output_type": "display_data",
          "data": {
            "image/png": "[encoded data removed]",
            "text/plain": [
              "<Figure size 432x288 with 1 Axes>"
            ]
          },
          "metadata": {
            "tags": []
          }
        }
      ]
    },
    {
      "cell_type": "markdown",
      "metadata": {
        "id": "ZESVQ0yEWaBo",
        "colab_type": "text"
      },
      "source": [
        "\n",
        "You should see that we have an 28x28 grayscale image (1 channel) of the handwritten digit 8.\n",
        "\n",
        "To give you a feel for what the convolutional layer does, we are now going to apply filters to this image.\n",
        "\n",
        "Firstly we will apply a horizontal filter\n",
        "\n",
        "$$\\begin{bmatrix}\n",
        "1 & 1 &  1 \\\\\n",
        "0 & 0 & 0 \\\\\n",
        "-1 & -1 & -1\n",
        "\\end{bmatrix}$$\n",
        "\n",
        "This filter enhances the horizontal features of the image."
      ]
    },
    {
      "cell_type": "code",
      "metadata": {
        "id": "S5-ETL5cWXVe",
        "colab_type": "code",
        "outputId": "cd0d8a8c-95be-4540-8654-4e42f57f6781",
        "colab": {
          "base_uri": "https://localhost:8080/",
          "height": 282
        }
      },
      "source": [
        "hor_filter = [[1,1,1],[0,0,0],[-1,-1,-1]]\n",
        "\n",
        "#2D convolution \n",
        "output = tf.nn.conv2d(\n",
        "      input=np.reshape(features, [1,28,28,1]), #batch, height, width, depth\n",
        "      filters=np.reshape(hor_filter, [3,3,1,1]), #height, width, in_channels, out_channels\n",
        "      strides=[1,1,1,1], \n",
        "      padding=\"VALID\")\n",
        "print('image shape: ', np.shape(output));\n",
        "plt.imshow(output[0,:,:,0], cmap='gray');"
      ],
      "execution_count": 0,
      "outputs": [
        {
          "output_type": "stream",
          "text": [
            "image shape:  (1, 26, 26, 1)\n"
          ],
          "name": "stdout"
        },
        {
          "output_type": "display_data",
          "data": {
            "image/png": "[encoded data removed]",
            "text/plain": [
              "<Figure size 432x288 with 1 Axes>"
            ]
          },
          "metadata": {
            "tags": []
          }
        }
      ]
    },
    {
      "cell_type": "markdown",
      "metadata": {
        "id": "bTYslGVQW_W8",
        "colab_type": "text"
      },
      "source": [
        "The filter has extracted the features of horizontal edges in the image. Note that the image size has shrunk from 28x28 to 26x26.\n",
        "\n",
        "Now lets try a vertical filter\n",
        "$$\\begin{bmatrix}\n",
        "1 & 0 & -1 \\\\\n",
        "1 & 0 & -1 \\\\\n",
        "1 & 0 & -1\n",
        "\\end{bmatrix}$$\n",
        "\n",
        "You should find that this filter extracts the vertical edges of the image."
      ]
    },
    {
      "cell_type": "code",
      "metadata": {
        "id": "C_oQSCeaW8b_",
        "colab_type": "code",
        "outputId": "6420e460-a5c5-47f6-dc2a-b50b1422a79d",
        "colab": {
          "base_uri": "https://localhost:8080/",
          "height": 282
        }
      },
      "source": [
        "ver_filter = [[1,0,-1],[1,0,-1],[1,0,-1]]\n",
        "\n",
        "output = tf.nn.conv2d(\n",
        "      input=np.reshape(features, [1,28,28,1]),\n",
        "      filters=np.reshape(ver_filter, [3,3,1,1]),\n",
        "      strides=[1,1,1,1], #in batch, x, y, channel\n",
        "      padding=\"VALID\")\n",
        "print('image shape: ', np.shape(output));\n",
        "plt.imshow(output[0,:,:,0], cmap='gray');"
      ],
      "execution_count": 0,
      "outputs": [
        {
          "output_type": "stream",
          "text": [
            "image shape:  (1, 26, 26, 1)\n"
          ],
          "name": "stdout"
        },
        {
          "output_type": "display_data",
          "data": {
            "image/png": "[encoded data removed]",
            "text/plain": [
              "<Figure size 432x288 with 1 Axes>"
            ]
          },
          "metadata": {
            "tags": []
          }
        }
      ]
    },
    {
      "cell_type": "markdown",
      "metadata": {
        "id": "3F9h7j_kXZk4",
        "colab_type": "text"
      },
      "source": [
        "A convolutional neural network consists of convolutional, pooling and fully connected layers. Let's look at these individually."
      ]
    },
    {
      "cell_type": "code",
      "metadata": {
        "id": "zZhVzh81XMQX",
        "colab_type": "code",
        "colab": {}
      },
      "source": [
        ""
      ],
      "execution_count": 0,
      "outputs": []
    }
  ]
}