{
  "nbformat": 4,
  "nbformat_minor": 0,
  "metadata": {
    "colab": {
      "name": "Graph_examples.ipynb",
      "provenance": [],
      "authorship_tag": "ABX9TyM+JsgmXOALdttyee5ADdcG",
      "include_colab_link": true
    },
    "kernelspec": {
      "name": "python3",
      "display_name": "Python 3"
    }
  },
  "cells": [
    {
      "cell_type": "markdown",
      "metadata": {
        "id": "view-in-github",
        "colab_type": "text"
      },
      "source": [
        "<a href=\"https://colab.research.google.com/github/MaggieLieu/MLiS_examples/blob/master/Graph_examples.ipynb\" target=\"_parent\"><img src=\"https://colab.research.google.com/assets/colab-badge.svg\" alt=\"Open In Colab\"/></a>"
      ]
    },
    {
      "cell_type": "markdown",
      "metadata": {
        "id": "EU5fXfl76QdR",
        "colab_type": "text"
      },
      "source": [
        "# Graphical models"
      ]
    },
    {
      "cell_type": "markdown",
      "metadata": {
        "id": "-RWYKXls6Vwo",
        "colab_type": "text"
      },
      "source": [
        "# Graph CNN"
      ]
    },
    {
      "cell_type": "code",
      "metadata": {
        "id": "jJoW9Nnb6ITA",
        "colab_type": "code",
        "colab": {}
      },
      "source": [
        ""
      ],
      "execution_count": 0,
      "outputs": []
    }
  ]
}